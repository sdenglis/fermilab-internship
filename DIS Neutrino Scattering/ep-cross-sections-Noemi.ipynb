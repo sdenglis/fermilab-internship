{
 "cells": [
  {
   "cell_type": "code",
   "execution_count": 1,
   "id": "890f5dc4",
   "metadata": {},
   "outputs": [],
   "source": [
    "import numpy as np\n",
    "import os\n",
    "import pandas as pd\n",
    "import sys\n",
    "sys.path.insert(0, \"/Users/rocconoe/local/lib/python3.9/site-packages\")\n",
    "import lhapdf\n",
    "#lhapdf.pathsPrepend('/home/sam/miniconda3/pkgs/share/LHAPDF')"
   ]
  },
  {
   "cell_type": "markdown",
   "id": "b43e6c90",
   "metadata": {},
   "source": [
    "> # Function & Class Definitions:"
   ]
  },
  {
   "cell_type": "code",
   "execution_count": 56,
   "id": "1f11e6bb",
   "metadata": {},
   "outputs": [],
   "source": [
    "class PDF:\n",
    "    \"\"\" \n",
    "    Class to store the PDF, so it is not constantly re-initialized (should be much quicker)\n",
    "    \"\"\"\n",
    "    def __init__(self, name, set_id):\n",
    "        self.pdf = lhapdf.mkPDF(name, set_id)\n",
    "        self.quarks = {'d': 1, 'u': 2, 's': 3, 'c': 4, 'b': 5,\n",
    "                       'db': -1, 'ub': -2, 'sb': -3, 'cb': -4, 'bb': -5}\n",
    "        \n",
    "    def __call__(self, i, xs, qs, nq):\n",
    "        if isinstance(i, str):\n",
    "            i = self.quarks[i]\n",
    "        xfx = np.zeros([len(xs), nq])\n",
    "        for ix, x in enumerate(xs):\n",
    "            for iq in range (nq):\n",
    "                xfx[ix, iq] = self.pdf.xfxQ(i, x, np.sqrt(qs[ix,iq]))\n",
    "        return xfx\n",
    "\n",
    "#    def __call__(self, i, xs, ys, E):\n",
    "#        if isinstance(i, str):\n",
    "#            i = self.quarks[i]\n",
    "#        xfx = np.zeros([len(xs), len(ys)])\n",
    "#        for ix, x in enumerate(xs):\n",
    "#            for iy, y in enumerate(ys):\n",
    "#                q           = np.sqrt(2*m_p*E*x*y)\n",
    "#                xfx[ix, iy] = self.pdf.xfxQ(i, x, q)\n",
    "#        return xfx"
   ]
  },
  {
   "cell_type": "code",
   "execution_count": 57,
   "id": "b1b32816",
   "metadata": {},
   "outputs": [],
   "source": [
    "class Dataset:\n",
    "    \"\"\"\n",
    "    Class to store the data from Huma in a nice to access format\n",
    "    \"\"\"\n",
    "    def __init__(self, prefix):\n",
    "        self.filenames = [os.path.join(prefix, f) for f in os.listdir(prefix) if os.path.isfile(os.path.join(prefix, f)) and 'swp' not in f]\n",
    "        self.data = []\n",
    "        for filename in self.filenames:\n",
    "            pdf_set = filename.split('_')[-2]\n",
    "            df = pd.read_csv(filename, sep='\\s+', names=['E', 'Q2', 'x', 'y', 'F1', 'F2', 'sigma'], dtype=np.float64)\n",
    "            df['pdf'] = pdf_set\n",
    "            self.data.append(df)\n",
    "        self.data = pd.concat(self.data)\n",
    "        self.data = self.data.sort_values(by=['pdf', 'E'])\n",
    "        \n",
    "    def points(self):\n",
    "        pdf_mask = self.data['pdf'] == 'cteq'\n",
    "        return self.data[pdf_mask][['E', 'Q2', 'x', 'y']].to_numpy()\n",
    "    \n",
    "    def data(self, pdf_set):\n",
    "        pdf_mask = self.data['pdf'] == pdf_set\n",
    "        return self.data[pdf_mask][['F1', 'F2', 'sigma']]"
   ]
  },
  {
   "cell_type": "code",
   "execution_count": 40,
   "id": "b718f35f",
   "metadata": {},
   "outputs": [],
   "source": [
    "a         = 1/137    # fine structure constant.\n",
    "prefactor = 4*np.pi*(a**2)\n",
    "m_p       = 0.938    # mass of proton in GeV."
   ]
  },
  {
   "cell_type": "code",
   "execution_count": 41,
   "id": "136b747e",
   "metadata": {},
   "outputs": [],
   "source": [
    "def q2f(E, xs, ys):\n",
    "    \"\"\"\n",
    "    Takes arrays of x and y values, and incoming electron beam energy. \n",
    "    Outputs corresponding array of q**2's.\n",
    "    \"\"\"\n",
    "    q2 = np.empty([len(xs), len(ys)])\n",
    "    for ix, x in enumerate(xs):\n",
    "        for iy, y in enumerate(ys):\n",
    "            q2[ix,iy] = 2*m_p*E*x*y # Thank you Noemi - derived in notes!\n",
    "    return q2\n",
    "\n",
    "def y(E,x,q2s):\n",
    "    ys= np.empty[len(q2s)]\n",
    "    for iq, q2 in enumerate(q2s):\n",
    "        y[iq]=q2s[iq]/E/x/2/m_p\n",
    "    return y2    \n",
    "            "
   ]
  },
  {
   "cell_type": "markdown",
   "id": "a5632a90",
   "metadata": {},
   "source": [
    "$$\\begin{align} \\frac{F_2^{ep}(x)}{x} &= \\frac{4}{9}(u(x)+\\bar{u}(x))+\\frac{1}{9}(d(x)+\\bar{d}(x))+\\frac{1}{9}(s(x)+\\bar{s}(x))+ ... \\end{align}$$"
   ]
  },
  {
   "cell_type": "code",
   "execution_count": 65,
   "id": "866bb849",
   "metadata": {},
   "outputs": [],
   "source": [
    "def F2_ep(pdf, xs, qs, nq):\n",
    "    \"\"\"\n",
    "    Quiggs Eq. ???\n",
    "    \"\"\"\n",
    "    series = (4/9)*(pdf(\"u\",xs,qs, nq) + pdf(\"ub\",xs,qs, nq)) +\\\n",
    "             (1/9)*(pdf(\"d\",xs,qs, nq) + pdf(\"db\",xs,qs, nq)) +\\\n",
    "             (1/9)*(pdf(\"s\",xs,qs, nq) + pdf(\"sb\",xs,qs, nq)) +\\\n",
    "             (4/9)*(pdf(\"c\",xs,qs, nq) + pdf(\"cb\",xs,qs, nq)) #+\\\n",
    "         #    (1/9)*(fx_x(pdf_set,\"t\",xs,qs) + fx_x(pdf_set,\"tbar\",xs,qs)) +\\\n",
    "         #    (1/9)*(fx_x(pdf_set,\"b\",xs,qs) + fx_x(pdf_set,\"bbar\",xs,qs)) \n",
    "    return series"
   ]
  },
  {
   "cell_type": "markdown",
   "id": "a906caa1",
   "metadata": {},
   "source": [
    "$$\\begin{align} F_1(x) = \\left\\{\n",
    "        \\begin{array}{ll}\n",
    "            0 & \\quad \\textrm{spin-zero partons} \\\\\n",
    "            \\left(\\frac{1}{2x}\\right)F_2(x) & \\quad \\textrm{spin-$\\frac{1}{2}$ partons}\n",
    "        \\end{array}\n",
    "    \\right.\\end{align}$$"
   ]
  },
  {
   "cell_type": "code",
   "execution_count": 43,
   "id": "84e25875",
   "metadata": {},
   "outputs": [],
   "source": [
    "def F1_ep(pdf, xs, qs, nq):\n",
    "    \"\"\"\n",
    "    Quiggs Eq. ???\n",
    "    Takes LHAPDF data set, incoming electron beam energy, array xs and ys of x and y values.\n",
    "    \"\"\"\n",
    "    f1 = F2_ep(pdf,xs,qs, nq)\n",
    "    for ix, x in enumerate(xs):\n",
    "        f1[ix] *= (1/(2*x))       # this is suspect to break with array formats?\n",
    "    return f1"
   ]
  },
  {
   "cell_type": "markdown",
   "id": "8ff8084c",
   "metadata": {},
   "source": [
    "$$\\begin{align} \\frac{d^2\\sigma}{dxdy} &= \\frac{4\\pi \\alpha^2 s}{Q^4}[F_2(x)(1-y)+F_1(x)xy^2]\\end{align}$$"
   ]
  },
  {
   "cell_type": "code",
   "execution_count": 45,
   "id": "01b7ad27",
   "metadata": {},
   "outputs": [],
   "source": [
    "def functional(pdf, E, xs, ys):\n",
    "    \"\"\"\n",
    "    Bracketed term calculation. Need LHAPDF data set, incoming electron beam energy, arrays xs and ys.\n",
    "    \"\"\"\n",
    "    left = np.empty([len(xs), len(ys)])\n",
    "    \n",
    "    q2=q2f(E, xs, ys)\n",
    "    for ix, x in enumerate(xs):\n",
    "        for iy, y in enumerate(ys):\n",
    "            left[ix,iy] = (1-y)\n",
    "    right = np.empty([len(xs), len(ys)])\n",
    "    for ix, x in enumerate(xs):\n",
    "        for iy, y in enumerate(ys):\n",
    "            right[ix,iy] = y**2*x\n",
    "            \n",
    "    return (F2_ep(pdf,xs,q2,len(ys))*left + F1_ep(pdf,xs,qs,len(ys))*right)"
   ]
  },
  {
   "cell_type": "code",
   "execution_count": 46,
   "id": "b6d044c5",
   "metadata": {},
   "outputs": [],
   "source": [
    "def cross_section(pdf, E, xs, ys, q2s):\n",
    "    \"\"\"\n",
    "    Calculates d2sigma/dxdy. Need LHAPDF data set, incoming electron beam energy, arrays xs and ys.\n",
    "    \"\"\"\n",
    "    s  = m_p**2 + 2*E * m_p     # invariant mass.\n",
    "    cs = prefactor * s / q2f(E,xs,ys)**2 * functional(pdf,E,xs,ys)\n",
    "    #cs = prefactor * s / q2s**2 * functional(pdf,E,xs,ys)\n",
    "    return conversion(E,cs)"
   ]
  },
  {
   "cell_type": "code",
   "execution_count": 47,
   "id": "9b82deac",
   "metadata": {},
   "outputs": [],
   "source": [
    "def conversion(E, cs):\n",
    "    gevtocm = 0.19733**2*1e-26\n",
    "    d2sig   = cs*gevtocm*1e+32/E\n",
    "    return d2sig # double check this soon."
   ]
  },
  {
   "cell_type": "markdown",
   "id": "7875d02b",
   "metadata": {},
   "source": [
    "> # Testing Grounds:"
   ]
  },
  {
   "cell_type": "code",
   "execution_count": 11,
   "id": "56fb1d0e",
   "metadata": {},
   "outputs": [],
   "source": [
    "obj = Dataset('NumbersHuma')"
   ]
  },
  {
   "cell_type": "code",
   "execution_count": 12,
   "id": "b3558156",
   "metadata": {},
   "outputs": [
    {
     "data": {
      "text/plain": [
       "array([[3.00000000e+00, 1.40739000e-02, 5.00000000e-02, 5.00000000e-02],\n",
       "       [3.00000000e+00, 2.81478000e-02, 5.00000000e-02, 1.00000000e-01],\n",
       "       [3.00000000e+00, 4.22217000e-02, 5.00000000e-02, 1.50000000e-01],\n",
       "       ...,\n",
       "       [1.50000000e+01, 2.27293485e+01, 9.50000000e-01, 8.50000000e-01],\n",
       "       [1.50000000e+01, 2.40663690e+01, 9.50000000e-01, 9.00000000e-01],\n",
       "       [1.50000000e+01, 2.54033895e+01, 9.50000000e-01, 9.50000000e-01]])"
      ]
     },
     "execution_count": 12,
     "metadata": {},
     "output_type": "execute_result"
    }
   ],
   "source": [
    "obj.points()"
   ]
  },
  {
   "cell_type": "code",
   "execution_count": 13,
   "id": "b705d90c",
   "metadata": {},
   "outputs": [
    {
     "data": {
      "text/html": [
       "<div>\n",
       "<style scoped>\n",
       "    .dataframe tbody tr th:only-of-type {\n",
       "        vertical-align: middle;\n",
       "    }\n",
       "\n",
       "    .dataframe tbody tr th {\n",
       "        vertical-align: top;\n",
       "    }\n",
       "\n",
       "    .dataframe thead th {\n",
       "        text-align: right;\n",
       "    }\n",
       "</style>\n",
       "<table border=\"1\" class=\"dataframe\">\n",
       "  <thead>\n",
       "    <tr style=\"text-align: right;\">\n",
       "      <th></th>\n",
       "      <th>E</th>\n",
       "      <th>Q2</th>\n",
       "      <th>x</th>\n",
       "      <th>y</th>\n",
       "      <th>F1</th>\n",
       "      <th>F2</th>\n",
       "      <th>sigma</th>\n",
       "      <th>pdf</th>\n",
       "    </tr>\n",
       "  </thead>\n",
       "  <tbody>\n",
       "    <tr>\n",
       "      <th>0</th>\n",
       "      <td>NaN</td>\n",
       "      <td>NaN</td>\n",
       "      <td>NaN</td>\n",
       "      <td>NaN</td>\n",
       "      <td>NaN</td>\n",
       "      <td>NaN</td>\n",
       "      <td>NaN</td>\n",
       "      <td>NumbersHuma/.DS</td>\n",
       "    </tr>\n",
       "    <tr>\n",
       "      <th>1</th>\n",
       "      <td>NaN</td>\n",
       "      <td>NaN</td>\n",
       "      <td>NaN</td>\n",
       "      <td>NaN</td>\n",
       "      <td>NaN</td>\n",
       "      <td>NaN</td>\n",
       "      <td>NaN</td>\n",
       "      <td>NumbersHuma/.DS</td>\n",
       "    </tr>\n",
       "    <tr>\n",
       "      <th>2</th>\n",
       "      <td>NaN</td>\n",
       "      <td>NaN</td>\n",
       "      <td>NaN</td>\n",
       "      <td>NaN</td>\n",
       "      <td>NaN</td>\n",
       "      <td>NaN</td>\n",
       "      <td>NaN</td>\n",
       "      <td>NumbersHuma/.DS</td>\n",
       "    </tr>\n",
       "    <tr>\n",
       "      <th>0</th>\n",
       "      <td>3.0</td>\n",
       "      <td>0.014074</td>\n",
       "      <td>0.05</td>\n",
       "      <td>0.05</td>\n",
       "      <td>0.000000</td>\n",
       "      <td>0.000000</td>\n",
       "      <td>0.000000</td>\n",
       "      <td>cteq</td>\n",
       "    </tr>\n",
       "    <tr>\n",
       "      <th>1</th>\n",
       "      <td>3.0</td>\n",
       "      <td>0.028148</td>\n",
       "      <td>0.05</td>\n",
       "      <td>0.10</td>\n",
       "      <td>0.000000</td>\n",
       "      <td>0.000000</td>\n",
       "      <td>0.000000</td>\n",
       "      <td>cteq</td>\n",
       "    </tr>\n",
       "    <tr>\n",
       "      <th>...</th>\n",
       "      <td>...</td>\n",
       "      <td>...</td>\n",
       "      <td>...</td>\n",
       "      <td>...</td>\n",
       "      <td>...</td>\n",
       "      <td>...</td>\n",
       "      <td>...</td>\n",
       "      <td>...</td>\n",
       "    </tr>\n",
       "    <tr>\n",
       "      <th>185</th>\n",
       "      <td>15.0</td>\n",
       "      <td>20.055308</td>\n",
       "      <td>0.95</td>\n",
       "      <td>0.75</td>\n",
       "      <td>0.000053</td>\n",
       "      <td>0.000053</td>\n",
       "      <td>0.000003</td>\n",
       "      <td>mmht</td>\n",
       "    </tr>\n",
       "    <tr>\n",
       "      <th>186</th>\n",
       "      <td>15.0</td>\n",
       "      <td>21.392328</td>\n",
       "      <td>0.95</td>\n",
       "      <td>0.80</td>\n",
       "      <td>0.000052</td>\n",
       "      <td>0.000052</td>\n",
       "      <td>0.000003</td>\n",
       "      <td>mmht</td>\n",
       "    </tr>\n",
       "    <tr>\n",
       "      <th>187</th>\n",
       "      <td>15.0</td>\n",
       "      <td>22.729349</td>\n",
       "      <td>0.95</td>\n",
       "      <td>0.85</td>\n",
       "      <td>0.000050</td>\n",
       "      <td>0.000050</td>\n",
       "      <td>0.000003</td>\n",
       "      <td>mmht</td>\n",
       "    </tr>\n",
       "    <tr>\n",
       "      <th>188</th>\n",
       "      <td>15.0</td>\n",
       "      <td>24.066369</td>\n",
       "      <td>0.95</td>\n",
       "      <td>0.90</td>\n",
       "      <td>0.000049</td>\n",
       "      <td>0.000049</td>\n",
       "      <td>0.000003</td>\n",
       "      <td>mmht</td>\n",
       "    </tr>\n",
       "    <tr>\n",
       "      <th>189</th>\n",
       "      <td>15.0</td>\n",
       "      <td>25.403390</td>\n",
       "      <td>0.95</td>\n",
       "      <td>0.95</td>\n",
       "      <td>0.000048</td>\n",
       "      <td>0.000048</td>\n",
       "      <td>0.000003</td>\n",
       "      <td>mmht</td>\n",
       "    </tr>\n",
       "  </tbody>\n",
       "</table>\n",
       "<p>1523 rows × 8 columns</p>\n",
       "</div>"
      ],
      "text/plain": [
       "        E         Q2     x     y        F1        F2     sigma  \\\n",
       "0     NaN        NaN   NaN   NaN       NaN       NaN       NaN   \n",
       "1     NaN        NaN   NaN   NaN       NaN       NaN       NaN   \n",
       "2     NaN        NaN   NaN   NaN       NaN       NaN       NaN   \n",
       "0     3.0   0.014074  0.05  0.05  0.000000  0.000000  0.000000   \n",
       "1     3.0   0.028148  0.05  0.10  0.000000  0.000000  0.000000   \n",
       "..    ...        ...   ...   ...       ...       ...       ...   \n",
       "185  15.0  20.055308  0.95  0.75  0.000053  0.000053  0.000003   \n",
       "186  15.0  21.392328  0.95  0.80  0.000052  0.000052  0.000003   \n",
       "187  15.0  22.729349  0.95  0.85  0.000050  0.000050  0.000003   \n",
       "188  15.0  24.066369  0.95  0.90  0.000049  0.000049  0.000003   \n",
       "189  15.0  25.403390  0.95  0.95  0.000048  0.000048  0.000003   \n",
       "\n",
       "                 pdf  \n",
       "0    NumbersHuma/.DS  \n",
       "1    NumbersHuma/.DS  \n",
       "2    NumbersHuma/.DS  \n",
       "0               cteq  \n",
       "1               cteq  \n",
       "..               ...  \n",
       "185             mmht  \n",
       "186             mmht  \n",
       "187             mmht  \n",
       "188             mmht  \n",
       "189             mmht  \n",
       "\n",
       "[1523 rows x 8 columns]"
      ]
     },
     "execution_count": 13,
     "metadata": {},
     "output_type": "execute_result"
    }
   ],
   "source": [
    "obj.data"
   ]
  },
  {
   "cell_type": "markdown",
   "id": "f10ac95a",
   "metadata": {},
   "source": [
    "> # Let's compare tables:"
   ]
  },
  {
   "cell_type": "code",
   "execution_count": 14,
   "id": "152adc67",
   "metadata": {},
   "outputs": [
    {
     "data": {
      "text/html": [
       "<div>\n",
       "<style scoped>\n",
       "    .dataframe tbody tr th:only-of-type {\n",
       "        vertical-align: middle;\n",
       "    }\n",
       "\n",
       "    .dataframe tbody tr th {\n",
       "        vertical-align: top;\n",
       "    }\n",
       "\n",
       "    .dataframe thead th {\n",
       "        text-align: right;\n",
       "    }\n",
       "</style>\n",
       "<table border=\"1\" class=\"dataframe\">\n",
       "  <thead>\n",
       "    <tr style=\"text-align: right;\">\n",
       "      <th></th>\n",
       "      <th>E</th>\n",
       "      <th>Q2</th>\n",
       "      <th>x</th>\n",
       "      <th>y</th>\n",
       "      <th>F1</th>\n",
       "      <th>F2</th>\n",
       "      <th>sigma</th>\n",
       "      <th>pdf</th>\n",
       "    </tr>\n",
       "  </thead>\n",
       "  <tbody>\n",
       "    <tr>\n",
       "      <th>0</th>\n",
       "      <td>3.0</td>\n",
       "      <td>0.014074</td>\n",
       "      <td>0.05</td>\n",
       "      <td>0.05</td>\n",
       "      <td>0.000000</td>\n",
       "      <td>0.000000</td>\n",
       "      <td>0.000000</td>\n",
       "      <td>cteq</td>\n",
       "    </tr>\n",
       "    <tr>\n",
       "      <th>1</th>\n",
       "      <td>3.0</td>\n",
       "      <td>0.028148</td>\n",
       "      <td>0.05</td>\n",
       "      <td>0.10</td>\n",
       "      <td>0.000000</td>\n",
       "      <td>0.000000</td>\n",
       "      <td>0.000000</td>\n",
       "      <td>cteq</td>\n",
       "    </tr>\n",
       "    <tr>\n",
       "      <th>2</th>\n",
       "      <td>3.0</td>\n",
       "      <td>0.042222</td>\n",
       "      <td>0.05</td>\n",
       "      <td>0.15</td>\n",
       "      <td>0.000000</td>\n",
       "      <td>0.000000</td>\n",
       "      <td>0.000000</td>\n",
       "      <td>cteq</td>\n",
       "    </tr>\n",
       "    <tr>\n",
       "      <th>3</th>\n",
       "      <td>3.0</td>\n",
       "      <td>0.056296</td>\n",
       "      <td>0.05</td>\n",
       "      <td>0.20</td>\n",
       "      <td>0.000000</td>\n",
       "      <td>0.000000</td>\n",
       "      <td>0.000000</td>\n",
       "      <td>cteq</td>\n",
       "    </tr>\n",
       "    <tr>\n",
       "      <th>4</th>\n",
       "      <td>3.0</td>\n",
       "      <td>0.070370</td>\n",
       "      <td>0.05</td>\n",
       "      <td>0.25</td>\n",
       "      <td>0.000000</td>\n",
       "      <td>0.000000</td>\n",
       "      <td>0.000000</td>\n",
       "      <td>cteq</td>\n",
       "    </tr>\n",
       "    <tr>\n",
       "      <th>...</th>\n",
       "      <td>...</td>\n",
       "      <td>...</td>\n",
       "      <td>...</td>\n",
       "      <td>...</td>\n",
       "      <td>...</td>\n",
       "      <td>...</td>\n",
       "      <td>...</td>\n",
       "      <td>...</td>\n",
       "    </tr>\n",
       "    <tr>\n",
       "      <th>185</th>\n",
       "      <td>3.0</td>\n",
       "      <td>4.011062</td>\n",
       "      <td>0.95</td>\n",
       "      <td>0.75</td>\n",
       "      <td>0.000118</td>\n",
       "      <td>0.000118</td>\n",
       "      <td>0.000192</td>\n",
       "      <td>cteq</td>\n",
       "    </tr>\n",
       "    <tr>\n",
       "      <th>186</th>\n",
       "      <td>3.0</td>\n",
       "      <td>4.278466</td>\n",
       "      <td>0.95</td>\n",
       "      <td>0.80</td>\n",
       "      <td>0.000114</td>\n",
       "      <td>0.000114</td>\n",
       "      <td>0.000185</td>\n",
       "      <td>cteq</td>\n",
       "    </tr>\n",
       "    <tr>\n",
       "      <th>187</th>\n",
       "      <td>3.0</td>\n",
       "      <td>4.545870</td>\n",
       "      <td>0.95</td>\n",
       "      <td>0.85</td>\n",
       "      <td>0.000110</td>\n",
       "      <td>0.000110</td>\n",
       "      <td>0.000178</td>\n",
       "      <td>cteq</td>\n",
       "    </tr>\n",
       "    <tr>\n",
       "      <th>188</th>\n",
       "      <td>3.0</td>\n",
       "      <td>4.813274</td>\n",
       "      <td>0.95</td>\n",
       "      <td>0.90</td>\n",
       "      <td>0.000106</td>\n",
       "      <td>0.000106</td>\n",
       "      <td>0.000172</td>\n",
       "      <td>cteq</td>\n",
       "    </tr>\n",
       "    <tr>\n",
       "      <th>189</th>\n",
       "      <td>3.0</td>\n",
       "      <td>5.080678</td>\n",
       "      <td>0.95</td>\n",
       "      <td>0.95</td>\n",
       "      <td>0.000103</td>\n",
       "      <td>0.000103</td>\n",
       "      <td>0.000167</td>\n",
       "      <td>cteq</td>\n",
       "    </tr>\n",
       "  </tbody>\n",
       "</table>\n",
       "<p>190 rows × 8 columns</p>\n",
       "</div>"
      ],
      "text/plain": [
       "       E        Q2     x     y        F1        F2     sigma   pdf\n",
       "0    3.0  0.014074  0.05  0.05  0.000000  0.000000  0.000000  cteq\n",
       "1    3.0  0.028148  0.05  0.10  0.000000  0.000000  0.000000  cteq\n",
       "2    3.0  0.042222  0.05  0.15  0.000000  0.000000  0.000000  cteq\n",
       "3    3.0  0.056296  0.05  0.20  0.000000  0.000000  0.000000  cteq\n",
       "4    3.0  0.070370  0.05  0.25  0.000000  0.000000  0.000000  cteq\n",
       "..   ...       ...   ...   ...       ...       ...       ...   ...\n",
       "185  3.0  4.011062  0.95  0.75  0.000118  0.000118  0.000192  cteq\n",
       "186  3.0  4.278466  0.95  0.80  0.000114  0.000114  0.000185  cteq\n",
       "187  3.0  4.545870  0.95  0.85  0.000110  0.000110  0.000178  cteq\n",
       "188  3.0  4.813274  0.95  0.90  0.000106  0.000106  0.000172  cteq\n",
       "189  3.0  5.080678  0.95  0.95  0.000103  0.000103  0.000167  cteq\n",
       "\n",
       "[190 rows x 8 columns]"
      ]
     },
     "execution_count": 14,
     "metadata": {},
     "output_type": "execute_result"
    }
   ],
   "source": [
    "# isolate 3 GeV entries.\n",
    "df = obj.data\n",
    "GeV = (df['E'] == 3) & (df['pdf'] == 'cteq')\n",
    "bench = df[GeV]\n",
    "bench"
   ]
  },
  {
   "cell_type": "code",
   "execution_count": 58,
   "id": "1d213593",
   "metadata": {},
   "outputs": [],
   "source": [
    "E  = 3.0 ; nx = 19 ; ny = 19\n",
    "xs = np.linspace(0.05,0.95,nx) ; ys = np.linspace(0.05,0.95,ny)\n",
    "pdf = PDF('cteq66', 0)\n",
    "# initialize only once, whoops!"
   ]
  },
  {
   "cell_type": "code",
   "execution_count": 17,
   "id": "3caba6f0",
   "metadata": {},
   "outputs": [
    {
     "data": {
      "text/html": [
       "<div>\n",
       "<style scoped>\n",
       "    .dataframe tbody tr th:only-of-type {\n",
       "        vertical-align: middle;\n",
       "    }\n",
       "\n",
       "    .dataframe tbody tr th {\n",
       "        vertical-align: top;\n",
       "    }\n",
       "\n",
       "    .dataframe thead th {\n",
       "        text-align: right;\n",
       "    }\n",
       "</style>\n",
       "<table border=\"1\" class=\"dataframe\">\n",
       "  <thead>\n",
       "    <tr style=\"text-align: right;\">\n",
       "      <th></th>\n",
       "      <th>E</th>\n",
       "      <th>Q2</th>\n",
       "      <th>x</th>\n",
       "      <th>y</th>\n",
       "      <th>F1</th>\n",
       "      <th>F2</th>\n",
       "      <th>sigma</th>\n",
       "      <th>pdf</th>\n",
       "    </tr>\n",
       "  </thead>\n",
       "  <tbody>\n",
       "    <tr>\n",
       "      <th>0</th>\n",
       "      <td>3.0</td>\n",
       "      <td>0.01407</td>\n",
       "      <td>0.05</td>\n",
       "      <td>0.05</td>\n",
       "      <td>0.032532</td>\n",
       "      <td>0.003253</td>\n",
       "      <td>884.083937</td>\n",
       "      <td>cteq66</td>\n",
       "    </tr>\n",
       "    <tr>\n",
       "      <th>1</th>\n",
       "      <td>3.0</td>\n",
       "      <td>0.02814</td>\n",
       "      <td>0.05</td>\n",
       "      <td>0.10</td>\n",
       "      <td>0.066726</td>\n",
       "      <td>0.006673</td>\n",
       "      <td>431.287000</td>\n",
       "      <td>cteq66</td>\n",
       "    </tr>\n",
       "    <tr>\n",
       "      <th>2</th>\n",
       "      <td>3.0</td>\n",
       "      <td>0.04221</td>\n",
       "      <td>0.05</td>\n",
       "      <td>0.15</td>\n",
       "      <td>0.102247</td>\n",
       "      <td>0.010225</td>\n",
       "      <td>279.525165</td>\n",
       "      <td>cteq66</td>\n",
       "    </tr>\n",
       "    <tr>\n",
       "      <th>3</th>\n",
       "      <td>3.0</td>\n",
       "      <td>0.05628</td>\n",
       "      <td>0.05</td>\n",
       "      <td>0.20</td>\n",
       "      <td>0.138919</td>\n",
       "      <td>0.013892</td>\n",
       "      <td>203.394158</td>\n",
       "      <td>cteq66</td>\n",
       "    </tr>\n",
       "    <tr>\n",
       "      <th>4</th>\n",
       "      <td>3.0</td>\n",
       "      <td>0.07035</td>\n",
       "      <td>0.05</td>\n",
       "      <td>0.25</td>\n",
       "      <td>0.176616</td>\n",
       "      <td>0.017662</td>\n",
       "      <td>157.675139</td>\n",
       "      <td>cteq66</td>\n",
       "    </tr>\n",
       "    <tr>\n",
       "      <th>...</th>\n",
       "      <td>...</td>\n",
       "      <td>...</td>\n",
       "      <td>...</td>\n",
       "      <td>...</td>\n",
       "      <td>...</td>\n",
       "      <td>...</td>\n",
       "      <td>...</td>\n",
       "      <td>...</td>\n",
       "    </tr>\n",
       "    <tr>\n",
       "      <th>356</th>\n",
       "      <td>3.0</td>\n",
       "      <td>4.00995</td>\n",
       "      <td>0.95</td>\n",
       "      <td>0.75</td>\n",
       "      <td>0.000089</td>\n",
       "      <td>0.000169</td>\n",
       "      <td>0.000315</td>\n",
       "      <td>cteq66</td>\n",
       "    </tr>\n",
       "    <tr>\n",
       "      <th>357</th>\n",
       "      <td>3.0</td>\n",
       "      <td>4.27728</td>\n",
       "      <td>0.95</td>\n",
       "      <td>0.80</td>\n",
       "      <td>0.000085</td>\n",
       "      <td>0.000162</td>\n",
       "      <td>0.000260</td>\n",
       "      <td>cteq66</td>\n",
       "    </tr>\n",
       "    <tr>\n",
       "      <th>358</th>\n",
       "      <td>3.0</td>\n",
       "      <td>4.54461</td>\n",
       "      <td>0.95</td>\n",
       "      <td>0.85</td>\n",
       "      <td>0.000082</td>\n",
       "      <td>0.000156</td>\n",
       "      <td>0.000219</td>\n",
       "      <td>cteq66</td>\n",
       "    </tr>\n",
       "    <tr>\n",
       "      <th>359</th>\n",
       "      <td>3.0</td>\n",
       "      <td>4.81194</td>\n",
       "      <td>0.95</td>\n",
       "      <td>0.90</td>\n",
       "      <td>0.000080</td>\n",
       "      <td>0.000151</td>\n",
       "      <td>0.000186</td>\n",
       "      <td>cteq66</td>\n",
       "    </tr>\n",
       "    <tr>\n",
       "      <th>360</th>\n",
       "      <td>3.0</td>\n",
       "      <td>5.07927</td>\n",
       "      <td>0.95</td>\n",
       "      <td>0.95</td>\n",
       "      <td>0.000077</td>\n",
       "      <td>0.000146</td>\n",
       "      <td>0.000161</td>\n",
       "      <td>cteq66</td>\n",
       "    </tr>\n",
       "  </tbody>\n",
       "</table>\n",
       "<p>361 rows × 8 columns</p>\n",
       "</div>"
      ],
      "text/plain": [
       "       E       Q2     x     y        F1        F2       sigma     pdf\n",
       "0    3.0  0.01407  0.05  0.05  0.032532  0.003253  884.083937  cteq66\n",
       "1    3.0  0.02814  0.05  0.10  0.066726  0.006673  431.287000  cteq66\n",
       "2    3.0  0.04221  0.05  0.15  0.102247  0.010225  279.525165  cteq66\n",
       "3    3.0  0.05628  0.05  0.20  0.138919  0.013892  203.394158  cteq66\n",
       "4    3.0  0.07035  0.05  0.25  0.176616  0.017662  157.675139  cteq66\n",
       "..   ...      ...   ...   ...       ...       ...         ...     ...\n",
       "356  3.0  4.00995  0.95  0.75  0.000089  0.000169    0.000315  cteq66\n",
       "357  3.0  4.27728  0.95  0.80  0.000085  0.000162    0.000260  cteq66\n",
       "358  3.0  4.54461  0.95  0.85  0.000082  0.000156    0.000219  cteq66\n",
       "359  3.0  4.81194  0.95  0.90  0.000080  0.000151    0.000186  cteq66\n",
       "360  3.0  5.07927  0.95  0.95  0.000077  0.000146    0.000161  cteq66\n",
       "\n",
       "[361 rows x 8 columns]"
      ]
     },
     "execution_count": 17,
     "metadata": {},
     "output_type": "execute_result"
    }
   ],
   "source": [
    "\"\"\"\n",
    "IMPORTANT: arrays have been flattened to accomodate the pandas dataframe.\n",
    "a.flatten() is used in general, assuming that the lists format like so:\n",
    "a[0] is 0th x-value; a[0][0] is the 0th y-value.\n",
    "\"\"\"\n",
    "s2 = cross_section(pdf,E,xs,ys).flatten()\n",
    "q2 = q2f(E,xs,ys).flatten()\n",
    "\n",
    "f1 = F1_ep(pdf,E,xs,ys).flatten()\n",
    "f2 = F2_ep(pdf,E,xs,ys).flatten()\n",
    "\n",
    "# create iterated x & y entries.\n",
    "Cxs = np.empty([len(xs), len(ys)])\n",
    "Cys = np.empty([len(xs), len(ys)])\n",
    "for ix,x in enumerate(xs):\n",
    "    for iy,y in enumerate(ys):\n",
    "        Cxs[ix,iy] = x\n",
    "        Cys[ix,iy] = y\n",
    "cx = Cxs.flatten() ; cy = Cys.flatten()\n",
    "\n",
    "d = {'E':3.0,'Q2':q2,'x':cx,'y':cy,'F1':f1,'F2':f2,'sigma':s2,'pdf':'cteq66'}\n",
    "dfC = pd.DataFrame(d)\n",
    "dfC"
   ]
  },
  {
   "cell_type": "markdown",
   "id": "62053854",
   "metadata": {},
   "source": [
    "> # Visual comparison:"
   ]
  },
  {
   "cell_type": "code",
   "execution_count": 26,
   "id": "c560552a",
   "metadata": {},
   "outputs": [],
   "source": [
    "import matplotlib.pyplot as plt\n",
    "from matplotlib.pyplot import figure\n"
   ]
  },
  {
   "cell_type": "code",
   "execution_count": 48,
   "id": "b936c3ea",
   "metadata": {},
   "outputs": [
    {
     "data": {
      "image/png": "[encoded data removed]",
      "text/plain": [
       "<Figure size 576x576 with 1 Axes>"
      ]
     },
     "metadata": {
      "needs_background": "light"
     },
     "output_type": "display_data"
    }
   ],
   "source": [
    "plt.figure(figsize=(8,8)) ; plt.rc('axes', labelsize=25, titlesize=30)\n",
    "\n",
    "xval = 0.35 ; s = \"x = {}\".format(xval)\n",
    "xm = dfC['x'] == xval\n",
    "plt.scatter(dfC['y'][xm],dfC['sigma'][xm],marker='x')\n",
    "plt.scatter(bench['y'][xm],bench['sigma'][xm],marker='x')\n",
    "plt.xlabel('y') ; plt.ylabel('$\\sigma$') ; plt.title(s)\n",
    "\n",
    "plt.show()"
   ]
  },
  {
   "cell_type": "code",
   "execution_count": 19,
   "id": "04cfc0dd",
   "metadata": {},
   "outputs": [
    {
     "name": "stdout",
     "output_type": "stream",
     "text": [
      "114    121.795443\n",
      "115     64.026048\n",
      "116     43.306528\n",
      "117     32.209144\n",
      "118     25.130115\n",
      "119     20.161703\n",
      "120     16.466579\n",
      "121     13.613899\n",
      "122     11.355804\n",
      "123      9.537253\n",
      "124      8.054729\n",
      "125      6.835454\n",
      "126      5.826118\n",
      "127      4.986385\n",
      "128      4.284949\n",
      "129      3.697038\n",
      "130      3.202757\n",
      "131      2.793900\n",
      "132      2.464932\n",
      "Name: sigma, dtype: float64\n"
     ]
    }
   ],
   "source": [
    "print(dfC['sigma'][xm])"
   ]
  },
  {
   "cell_type": "code",
   "execution_count": 50,
   "id": "fdc349e0",
   "metadata": {},
   "outputs": [
    {
     "data": {
      "image/png": "[encoded data removed]",
      "text/plain": [
       "<Figure size 576x576 with 1 Axes>"
      ]
     },
     "metadata": {
      "needs_background": "light"
     },
     "output_type": "display_data"
    }
   ],
   "source": [
    "plt.figure(figsize=(8,8)) ; plt.rc('axes', labelsize=25, titlesize=30)\n",
    "\n",
    "xval = 0.35 ; s = \"x = {}\".format(xval)\n",
    "xm = dfC['x'] == xval\n",
    "plt.scatter(dfC['y'][xm],dfC['F1'][xm],marker='x')\n",
    "plt.scatter(bench['y'][xm],bench['F1'][xm],marker='x')\n",
    "plt.xlabel('y') ; plt.ylabel('$F1$') ; plt.title(s)\n",
    "\n",
    "plt.show()"
   ]
  },
  {
   "cell_type": "code",
   "execution_count": 63,
   "id": "49425567",
   "metadata": {},
   "outputs": [
    {
     "name": "stdout",
     "output_type": "stream",
     "text": [
      "[[0.09849 0.19698 0.29547 0.39396 0.49245 0.59094 0.68943 0.78792 0.88641\n",
      "  0.9849  1.08339 1.18188 1.28037 1.37886 1.47735 1.57584 1.67433 1.77282\n",
      "  1.87131]]\n"
     ]
    }
   ],
   "source": [
    "E  = 3.0 ; nx = 1 ; ny = 19\n",
    "xs = [0.35]\n",
    "ys = np.linspace(0.05,0.95,ny)\n",
    "q2 = q2f(E,xs,ys)\n",
    "print(q2)"
   ]
  },
  {
   "cell_type": "code",
   "execution_count": 67,
   "id": "damaged-begin",
   "metadata": {},
   "outputs": [
    {
     "name": "stdout",
     "output_type": "stream",
     "text": [
      "[[0.02196088 0.04853796 0.07762115 0.10779503 0.13792973 0.16710401\n",
      "  0.1945766  0.2197693  0.2422527  0.26173194 0.2780319  0.29108196\n",
      "  0.30090063 0.3075805  0.31127387 0.31217921 0.31052888 0.30745246\n",
      "  0.30448867]]\n"
     ]
    },
    {
     "data": {
      "text/plain": [
       "[<matplotlib.lines.Line2D at 0x11658ddc0>]"
      ]
     },
     "execution_count": 67,
     "metadata": {},
     "output_type": "execute_result"
    },
    {
     "data": {
      "image/png": "[encoded data removed]",
      "text/plain": [
       "<Figure size 432x288 with 1 Axes>"
      ]
     },
     "metadata": {
      "needs_background": "light"
     },
     "output_type": "display_data"
    }
   ],
   "source": [
    "f1 = F1_ep(pdf,xs,q2,ny)\n",
    "f2 = F2_ep(pdf,xs,q2,ny)\n",
    "\n",
    "print(f2)\n",
    "plt.plot(ys,f2[0,:])"
   ]
  },
  {
   "cell_type": "code",
   "execution_count": 95,
   "id": "announced-linux",
   "metadata": {},
   "outputs": [
    {
     "data": {
      "image/png": "[encoded data removed]",
      "text/plain": [
       "<Figure size 360x240 with 1 Axes>"
      ]
     },
     "metadata": {},
     "output_type": "display_data"
    }
   ],
   "source": [
    " E  = 3.0 ; nx = 1 ; ny = 19\n",
    "xs = [0.025]\n",
    "q2=np.zeros((nx,ny))\n",
    "q2[0,:] = np.linspace(0.0,10000,ny)\n",
    "f2 = F2_ep(pdf,xs,q2,ny)\n",
    "\n",
    "figure(num=None, figsize=(3, 2), dpi=120, facecolor='w', edgecolor='k')\n",
    "\n",
    "plt.plot(q2[0,:],f2[0,:]+2)\n",
    "plt.ylim(0,8)\n",
    "plt.xlim(1,)\n",
    "\n",
    "plt.title('x=0.025')\n",
    "plt.xlabel(r'$Q^2$ [GeV$^2$]')\n",
    "plt.ylabel(r'$F_2^p$+2')\n",
    "plt.xscale('log')"
   ]
  },
  {
   "cell_type": "code",
   "execution_count": 93,
   "id": "compound-spare",
   "metadata": {
    "scrolled": true
   },
   "outputs": [
    {
     "data": {
      "text/plain": [
       "Text(0, 0.5, '$F_2^p$')"
      ]
     },
     "execution_count": 93,
     "metadata": {},
     "output_type": "execute_result"
    },
    {
     "data": {
      "image/png": "[encoded data removed]",
      "text/plain": [
       "<Figure size 360x240 with 1 Axes>"
      ]
     },
     "metadata": {},
     "output_type": "display_data"
    }
   ],
   "source": [
    "nx=200\n",
    "ny=1\n",
    "xs = np.linspace(0.0001,0.01,nx)\n",
    "q2=np.zeros((nx,ny))\n",
    "q2[:,0]=3.5\n",
    "f2 = F2_ep(pdf,xs,q2,ny)\n",
    "#q2 = q2f(E,xs,ys)\n",
    "#up=pdf(\"u\",xs,ys,E)\n",
    "figure(num=None, figsize=(3, 2), dpi=120, facecolor='w', edgecolor='k')\n",
    "\n",
    "plt.plot(xs,f2[:,0])\n",
    "plt.xscale('log')\n",
    "\n",
    "plt.title('$Q^2$=3.5 GeV$^2$')\n",
    "plt.xlabel(r'x')\n",
    "plt.ylabel(r'$F_2^p$')\n",
    "#plt.ylim(0,8)\n",
    "#plt.xlim(1,)"
   ]
  },
  {
   "cell_type": "code",
   "execution_count": null,
   "id": "artificial-footage",
   "metadata": {},
   "outputs": [],
   "source": []
  }
 ],
 "metadata": {
  "kernelspec": {
   "display_name": "Python 3",
   "language": "python",
   "name": "python3"
  },
  "language_info": {
   "codemirror_mode": {
    "name": "ipython",
    "version": 3
   },
   "file_extension": ".py",
   "mimetype": "text/x-python",
   "name": "python",
   "nbconvert_exporter": "python",
   "pygments_lexer": "ipython3",
   "version": "3.9.6"
  }
 },
 "nbformat": 4,
 "nbformat_minor": 5
}
