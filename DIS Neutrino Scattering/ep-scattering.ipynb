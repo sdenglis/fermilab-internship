{
 "cells": [
  {
   "cell_type": "code",
   "execution_count": 1,
   "id": "c0e11dbf",
   "metadata": {},
   "outputs": [],
   "source": [
    "import numpy as np"
   ]
  },
  {
   "cell_type": "code",
   "execution_count": 2,
   "id": "9a6d6515",
   "metadata": {},
   "outputs": [],
   "source": [
    "import lhapdf"
   ]
  },
  {
   "cell_type": "code",
   "execution_count": 3,
   "id": "af9f95b3",
   "metadata": {},
   "outputs": [
    {
     "name": "stdout",
     "output_type": "stream",
     "text": [
      "['/home/sam/miniconda3/pkgs/share/LHAPDF', '/home/sam/anaconda3/pkgs/share/LHAPDF', '/home/sam/anaconda3/pkgs/share/LHAPDF']\n"
     ]
    }
   ],
   "source": [
    "lhapdf.pathsPrepend('/home/sam/miniconda3/pkgs/share/LHAPDF') # sorry, this is specific to my computer!!\n",
    "print(lhapdf.paths())"
   ]
  },
  {
   "cell_type": "markdown",
   "id": "8379e8e1",
   "metadata": {},
   "source": [
    "```python\n",
    "\"\"\"This returns u(x)*x\"\"\"\n",
    "p = lhapdf.mkPDF(\"CT18NNLO\", 0) # or whatever model we want to use.\n",
    "\n",
    "xs = [x for x in np.logspace(-7, 0, 5)]\n",
    "qs = [q for q in np.logspace(1, 4, 4)]\n",
    "ux_xfs = np.empty([len(xs), len(qs)])\n",
    "for ix, x in enumerate(xs):\n",
    "    for iq, q in enumerate(qs):\n",
    "        ux_xfs[ix,iq] = p.xfxQ(2, x, q) # flavor table: 2 -> up quark.\n",
    "        # could also make this in terms of q^2 for higher efficiency.\n",
    "print(np.shape(ux_xfs))\n",
    "```"
   ]
  },
  {
   "cell_type": "markdown",
   "id": "f6ef1e3c",
   "metadata": {},
   "source": [
    "> ### Let's generalize this to a function!"
   ]
  },
  {
   "cell_type": "code",
   "execution_count": 4,
   "id": "1a2b875c",
   "metadata": {},
   "outputs": [],
   "source": [
    "q_dict = {\"tbar\":-6,\"bbar\":-5,\"cbar\":-4,\"sbar\":-3,\"ubar\":-2,\"dbar\":-1,\n",
    "          \"g\":0,\n",
    "          \"d\":1,\"u\":2,\"s\":3,\"c\":4,\"b\":5,\"t\":6}"
   ]
  },
  {
   "cell_type": "code",
   "execution_count": 5,
   "id": "44a44ba3",
   "metadata": {},
   "outputs": [],
   "source": [
    "\"\"\"Need to feed arrays xs and qs!\"\"\"\n",
    "def fx_x(pdf_set, quark_name, xs, qs):\n",
    "    p     = lhapdf.mkPDF(pdf_set, 0) # or whatever model we want to use.\n",
    "    quark = q_dict[quark_name]       # get associated quark number.\n",
    "    \n",
    "#     xs = [x for x in np.logspace(-7, 0, 5)]\n",
    "#     qs = [q for q in np.logspace(1, 4, 4)]\n",
    "    x_xfs = np.empty([len(xs), len(qs)])\n",
    "    for ix, x in enumerate(xs):\n",
    "        for iq, q in enumerate(qs):\n",
    "            x_xfs[ix,iq] = p.xfxQ(quark, x, q) # flavor table: 2 -> up quark.\n",
    "            # could also make this in terms of q^2 for higher efficiency.\n",
    "#     print(np.shape(x_xfs))\n",
    "    return x_xfs     # returns f(x)*x for quark f."
   ]
  },
  {
   "cell_type": "code",
   "execution_count": 6,
   "id": "5adb5b79",
   "metadata": {},
   "outputs": [
    {
     "data": {
      "text/plain": [
       "array([[0.00088526, 0.00376125]])"
      ]
     },
     "execution_count": 6,
     "metadata": {},
     "output_type": "execute_result"
    }
   ],
   "source": [
    "fx_x(\"CT18NNLO\",\"dbar\",xs=[0.1],qs=[0.1,0.2]) # looks like it's working, the shape is interesting?"
   ]
  },
  {
   "cell_type": "code",
   "execution_count": 8,
   "id": "3603ff17",
   "metadata": {},
   "outputs": [
    {
     "data": {
      "text/plain": [
       "array([[0.00086526, 0.00367161]])"
      ]
     },
     "execution_count": 8,
     "metadata": {},
     "output_type": "execute_result"
    }
   ],
   "source": [
    "fx_x(\"cteq66\",\"dbar\",xs=[0.1],qs=[0.1,0.2])"
   ]
  },
  {
   "cell_type": "code",
   "execution_count": 9,
   "id": "642fa7d0",
   "metadata": {},
   "outputs": [],
   "source": [
    "a         = 1/137    # fine structure constant.\n",
    "prefactor = 4*np.pi*(a)**2\n",
    "m_p       = 0.938    # mass of proton in GeV?"
   ]
  },
  {
   "cell_type": "code",
   "execution_count": 10,
   "id": "b1fe41de",
   "metadata": {},
   "outputs": [],
   "source": [
    "\"\"\"Takes array of x and y values. \n",
    "Outputs corresponding array of q**2's.\"\"\"\n",
    "def q2f(E,xs,ys):\n",
    "#     return 2*m_p * E * x * y\n",
    "    q2 = np.empty([len(xs), len(ys)])\n",
    "    for ix, x in enumerate(xs):\n",
    "        for iy, y in enumerate(ys):\n",
    "            q2[ix,iy] = 2*m_p*E*x*y\n",
    "    return q2"
   ]
  },
  {
   "cell_type": "code",
   "execution_count": 11,
   "id": "0f7cc306",
   "metadata": {},
   "outputs": [
    {
     "data": {
      "text/plain": [
       "array([[0.1876, 0.3752, 0.5628]])"
      ]
     },
     "execution_count": 11,
     "metadata": {},
     "output_type": "execute_result"
    }
   ],
   "source": [
    "q2f(10, [0.1],[0.1,0.2,0.3])"
   ]
  },
  {
   "cell_type": "markdown",
   "id": "955a5794",
   "metadata": {},
   "source": [
    "$$\\begin{align} \\frac{F_2^{ep}(x)}{x} &= \\frac{4}{9}(u(x)+\\bar{u}(x))+\\frac{1}{9}(d(x)+\\bar{d}(x))+\\frac{1}{9}(s(x)+\\bar{s}(x))+ ... \\end{align}$$"
   ]
  },
  {
   "cell_type": "markdown",
   "id": "d427efef",
   "metadata": {},
   "source": [
    "$$\\begin{align} F_1(x) = \\left\\{\n",
    "        \\begin{array}{ll}\n",
    "            0 & \\quad \\textrm{spin-zero partons} \\\\\n",
    "            \\left(\\frac{1}{2x}\\right)F_2(x) & \\quad \\textrm{spin-$\\frac{1}{2}$ partons}\n",
    "        \\end{array}\n",
    "    \\right.\\end{align}$$"
   ]
  },
  {
   "cell_type": "code",
   "execution_count": 12,
   "id": "b491585d",
   "metadata": {},
   "outputs": [],
   "source": [
    "def F2_ep(pdf_set, x, y):\n",
    "    series = (4/9)*(fx_x(pdf_set,\"u\",x,y) + fx_x(pdf_set,\"ubar\",x,y)) +\\\n",
    "             (1/9)*(fx_x(pdf_set,\"d\",x,y) + fx_x(pdf_set,\"dbar\",x,y)) +\\\n",
    "             (1/9)*(fx_x(pdf_set,\"s\",x,y) + fx_x(pdf_set,\"sbar\",x,y)) +\\\n",
    "             (1/9)*(fx_x(pdf_set,\"c\",x,y) + fx_x(pdf_set,\"cbar\",x,y)) +\\\n",
    "             (1/9)*(fx_x(pdf_set,\"t\",x,y) + fx_x(pdf_set,\"tbar\",x,y)) +\\\n",
    "             (1/9)*(fx_x(pdf_set,\"b\",x,y) + fx_x(pdf_set,\"bbar\",x,y)) \n",
    "    return series"
   ]
  },
  {
   "cell_type": "code",
   "execution_count": 13,
   "id": "9cf63e00",
   "metadata": {},
   "outputs": [
    {
     "data": {
      "text/plain": [
       "array([[0.00249229, 0.01055733],\n",
       "       [0.00254206, 0.01083509],\n",
       "       [0.00221989, 0.00950597]])"
      ]
     },
     "execution_count": 13,
     "metadata": {},
     "output_type": "execute_result"
    }
   ],
   "source": [
    "F2_ep(\"CT18NNLO\", [0.1,0.2,0.3], [0.1,0.2])"
   ]
  },
  {
   "cell_type": "code",
   "execution_count": 52,
   "id": "931dcb10",
   "metadata": {},
   "outputs": [],
   "source": [
    "\"\"\"Assume x,y array inputs. Return F2.\"\"\"\n",
    "\"\"\"I JUST CHANGED y to q!!!\"\"\"\n",
    "def F1_ep(pdf_set,x,q):\n",
    "#     return (1/(2*x))*F2_ep(pdf_set,x,y)\n",
    "    f1 = F2_ep(pdf_set,x,q)\n",
    "    for ix, x in enumerate(x):\n",
    "        f1[ix] *= (1/(2*x))\n",
    "    return f1\n",
    "    # aren't all the spins of the series in F2_ep() spin-1/2?"
   ]
  },
  {
   "cell_type": "code",
   "execution_count": 15,
   "id": "1ea5377c",
   "metadata": {},
   "outputs": [
    {
     "data": {
      "text/plain": [
       "array([[0.01246147, 0.05278663],\n",
       "       [0.00635515, 0.02708772],\n",
       "       [0.00369982, 0.01584328]])"
      ]
     },
     "execution_count": 15,
     "metadata": {},
     "output_type": "execute_result"
    }
   ],
   "source": [
    "F1_ep(\"CT18NNLO\", [0.1,0.2,0.3], [0.1,0.2])"
   ]
  },
  {
   "cell_type": "code",
   "execution_count": 16,
   "id": "16c2419d",
   "metadata": {},
   "outputs": [],
   "source": [
    "# Does F2_ep need to explicitly depend on x? Is the fx_x for a specific case right now?\n",
    "def functional(pdf_set,xs,ys):\n",
    "#     return (F2_ep(pdf_set,x,y)*(1-y) + F1_ep(pdf_set,x,y)*pow(y,2)*x)\n",
    "\n",
    "    # this is a silly way to implement this, \n",
    "    # but I need to somehow tame the array when isolating a single value.\n",
    "    qs = q2f(E,x,y) # this needs to be taken into account. q's need to go in rather than y's in certain spots.\n",
    "    \n",
    "    \n",
    "    left = np.empty([len(xs), len(ys)])\n",
    "    for ix, x in enumerate(xs):\n",
    "        for iy, y in enumerate(ys):\n",
    "            left[ix,iy] = (1-y)\n",
    "    right = np.empty([len(xs), len(ys)])\n",
    "    for ix, x in enumerate(xs):\n",
    "        for iy, y in enumerate(ys):\n",
    "            left[ix,iy] = pow(y,2)*x\n",
    "            \n",
    "    return (F2_ep(pdf_set,xs,qs)*left + F1_ep(pdf_set,xs,qs)*right)"
   ]
  },
  {
   "cell_type": "code",
   "execution_count": 17,
   "id": "615bde7f",
   "metadata": {},
   "outputs": [
    {
     "data": {
      "text/plain": [
       "array([[1.57780538e-04, 2.82865797e-03],\n",
       "       [4.54720945e-05, 8.20425469e-04],\n",
       "       [2.03483552e-05, 3.65081301e-04]])"
      ]
     },
     "execution_count": 17,
     "metadata": {},
     "output_type": "execute_result"
    }
   ],
   "source": [
    "functional(\"CT18NNLO\", [0.1,0.2,0.3], [0.1,0.2]) # this DOES output something..."
   ]
  },
  {
   "cell_type": "markdown",
   "id": "cb8eb6ef",
   "metadata": {},
   "source": [
    "$$\\begin{align} \\frac{d^2\\sigma}{dxdy} &= \\frac{4\\pi \\alpha^2 s}{Q^4}[F_2(x)(1-y)+F_1(x)xy^2]\\end{align}$$"
   ]
  },
  {
   "cell_type": "code",
   "execution_count": 18,
   "id": "2961aeda",
   "metadata": {},
   "outputs": [],
   "source": [
    "def cross_section(E,x,y,pdf_set):\n",
    "    s = m_p**2 + 2*E * m_p # invariant mass.\n",
    "    \n",
    "    cs = prefactor * s / q2f(E,x,y)**2 * functional(pdf_set,x,y)\n",
    "    return cs"
   ]
  },
  {
   "cell_type": "code",
   "execution_count": 19,
   "id": "274c8731",
   "metadata": {},
   "outputs": [
    {
     "data": {
      "text/plain": [
       "array([[1.46229708e-11, 1.46232185e-06, 1.57357629e-01],\n",
       "       [7.09086349e-13, 7.09111961e-08, 8.28379314e-03],\n",
       "       [2.88483426e-14, 2.88496877e-09, 3.52560527e-04],\n",
       "       [1.53003001e-15, 1.53012903e-10, 2.02097974e-05],\n",
       "       [0.00000000e+00, 0.00000000e+00, 0.00000000e+00]])"
      ]
     },
     "execution_count": 19,
     "metadata": {},
     "output_type": "execute_result"
    }
   ],
   "source": [
    "E = 10        # incident electron beam energy in GeV.\n",
    "cross_section(E,x=np.logspace(-5,0,5),y=np.logspace(-5,0,3),pdf_set=\"CT18NNLO\") / E     \n",
    "# make sure units are consistent."
   ]
  },
  {
   "cell_type": "markdown",
   "id": "df8f515b",
   "metadata": {},
   "source": [
    "Take same x and y ~ q^2 (Eq. 2) range as Huma's data for comparison."
   ]
  },
  {
   "cell_type": "markdown",
   "id": "8836e9e0",
   "metadata": {},
   "source": [
    "For a given value of x, we vary over y. Reproduce F1 and F2 values. Then get cross section."
   ]
  },
  {
   "cell_type": "code",
   "execution_count": 20,
   "id": "a67a06fa",
   "metadata": {},
   "outputs": [],
   "source": [
    "import matplotlib.pyplot as plt"
   ]
  },
  {
   "cell_type": "code",
   "execution_count": 21,
   "id": "32a93ba0",
   "metadata": {},
   "outputs": [
    {
     "data": {
      "image/png": "[encoded data removed]",
      "text/plain": [
       "<Figure size 640x480 with 1 Axes>"
      ]
     },
     "metadata": {},
     "output_type": "display_data"
    }
   ],
   "source": [
    "plt.figure()\n",
    "\n",
    "E = 10        # incident electron beam energy in GeV.\n",
    "y = np.linspace(1e-5,1,10)\n",
    "cs = cross_section(E,x=[0.45],y=y,pdf_set=\"CT18NNLO\") / E    \n",
    "plt.plot(y,cs[0])\n",
    "plt.xlabel('y')\n",
    "plt.ylabel('cross-section [bad units]')\n",
    "plt.show()"
   ]
  },
  {
   "cell_type": "code",
   "execution_count": 22,
   "id": "d73250e8",
   "metadata": {},
   "outputs": [
    {
     "name": "stdout",
     "output_type": "stream",
     "text": [
      "[0.05 0.1  0.15 0.2  0.25 0.3  0.35 0.4  0.45 0.5  0.55 0.6  0.65 0.7\n",
      " 0.75 0.8  0.85 0.9  0.95]\n",
      "[0.01407 0.02814 0.04221 0.05628 0.07035 0.08442 0.09849 0.11256 0.12663\n",
      " 0.1407  0.15477 0.16884 0.18291 0.19698 0.21105 0.22512 0.23919 0.25326\n",
      " 0.26733]\n"
     ]
    }
   ],
   "source": [
    "# if you want to generate Huma results for a fixed value of E and a given x (this corresponds to the first 20 lines)\n",
    "x=0.05\n",
    "E=3.0\n",
    "ny=19\n",
    "mp=0.938\n",
    "y=np.zeros(ny)\n",
    "y=np.linspace(0.05,0.95,ny)\n",
    "print(y)\n",
    "q2=np.zeros(ny)\n",
    "q2=2.0*mp*E*x*y\n",
    "print(q2)"
   ]
  },
  {
   "cell_type": "code",
   "execution_count": 48,
   "id": "opened-neighbor",
   "metadata": {},
   "outputs": [],
   "source": [
    "#if you want to generate the full table Huma sent for a fixed value of E\n",
    "nx=19\n",
    "x=np.zeros(nx)\n",
    "x=np.linspace(0.05,0.95,nx)\n",
    "E=3.0\n",
    "ny=19\n",
    "mp=0.938\n",
    "y=np.zeros(ny)\n",
    "y=np.linspace(0.05,0.95,ny)\n",
    "q2=np.zeros((nx,ny))\n",
    "for i in range (nx):\n",
    "    q2[i,:]=2.0*mp*E*x[i]*y\n",
    "# print(q2)"
   ]
  },
  {
   "cell_type": "code",
   "execution_count": 24,
   "id": "agreed-trustee",
   "metadata": {},
   "outputs": [],
   "source": [
    "#if you want to generate the full table Huma sent for a fixed value of E\n",
    "nx=19\n",
    "E=3.0\n",
    "ny=19\n",
    "\n",
    "# cross_section(E,x=np.linspace(0.05,0.95,nx),y=np.linspace(0.05,0.95,ny),pdf_set=\"CT18NNLO\") / E  "
   ]
  },
  {
   "cell_type": "code",
   "execution_count": 25,
   "id": "5fa2b2b2",
   "metadata": {},
   "outputs": [
    {
     "data": {
      "text/plain": [
       "array([[1.08339]])"
      ]
     },
     "execution_count": 25,
     "metadata": {},
     "output_type": "execute_result"
    }
   ],
   "source": [
    "q2f(3,[0.55],[0.35]) # this works pretty closely!"
   ]
  },
  {
   "cell_type": "code",
   "execution_count": 26,
   "id": "73d0884b",
   "metadata": {},
   "outputs": [
    {
     "data": {
      "text/plain": [
       "array([[0.01242411]])"
      ]
     },
     "execution_count": 26,
     "metadata": {},
     "output_type": "execute_result"
    }
   ],
   "source": [
    "F2_ep(\"CT18NNLO\", [0.55],[0.35]) # quite some disagreement? 0.124 vs 0.154"
   ]
  },
  {
   "cell_type": "code",
   "execution_count": 27,
   "id": "62b99f25",
   "metadata": {},
   "outputs": [
    {
     "data": {
      "text/plain": [
       "array([[0.01129465]])"
      ]
     },
     "execution_count": 27,
     "metadata": {},
     "output_type": "execute_result"
    }
   ],
   "source": [
    "F1_ep(\"CT18NNLO\", [0.55],[0.35]) # again? 0.113 vs 0.149"
   ]
  },
  {
   "cell_type": "code",
   "execution_count": 36,
   "id": "d1e2c4d6",
   "metadata": {},
   "outputs": [
    {
     "name": "stdout",
     "output_type": "stream",
     "text": [
      "[[0.23805393]]\n"
     ]
    }
   ],
   "source": [
    "E  = 3.0\n",
    "cs = cross_section(E,[0.55],[0.35],\"CT18NNLO\")\n",
    "\n",
    "d0 = 1 # idk what to do with this one?\n",
    "gevtocm=0.19733*d0**2*1e-26\n",
    "d2sig = [0.55]*cs*gevtocm*1e+32/E\n",
    "\n",
    "print(d2sig)"
   ]
  },
  {
   "cell_type": "code",
   "execution_count": 39,
   "id": "af4316a9",
   "metadata": {},
   "outputs": [],
   "source": [
    "def conversion(E,cs):\n",
    "    gevtocm=0.19733*2*1e-26 # extra factor of 2 hiding in here???\n",
    "    d2sig = cs*gevtocm*1e+32/E\n",
    "    return d2sig # double check this soon."
   ]
  },
  {
   "cell_type": "code",
   "execution_count": 55,
   "id": "da2eb4cf",
   "metadata": {},
   "outputs": [
    {
     "name": "stdout",
     "output_type": "stream",
     "text": [
      "[[0.42103925]]\n",
      "[0.35] [[1.08339]]\n",
      "[[0.11421888]]\n",
      "[[0.12564077]]\n"
     ]
    }
   ],
   "source": [
    "E  = 3.0\n",
    "x  = [0.55]\n",
    "y  = [0.35]\n",
    "\n",
    "cs = cross_section(E,x,y,\"CT18NNLO\")\n",
    "conversion(E,cs)\n",
    "\n",
    "cs = cross_section(E,x,y,\"cteq66\")\n",
    "print(conversion(E,cs))\n",
    "\n",
    "q2s = q2f(E,x,y)\n",
    "print(y,q2s)\n",
    "\n",
    "print(F1_ep(\"cteq66\",x,q2s)) # these are way too low? :(\n",
    "print(F2_ep(\"cteq66\",x,q2s))"
   ]
  },
  {
   "cell_type": "markdown",
   "id": "6baa5b65",
   "metadata": {},
   "source": [
    "GeV  q^2   x   y   f1  f2  d2sigma     "
   ]
  },
  {
   "cell_type": "code",
   "execution_count": 31,
   "id": "49a6f2fd",
   "metadata": {},
   "outputs": [
    {
     "data": {
      "text/plain": [
       "[3.0, 1.08369, 0.55, 0.35, 0.1499, 0.1541539, 0.42096]"
      ]
     },
     "execution_count": 31,
     "metadata": {},
     "output_type": "execute_result"
    }
   ],
   "source": [
    "[3.0,1.08369,0.55,0.35,0.1499,0.1541539,0.42096] # benchmark for 3 GeV and associated values."
   ]
  },
  {
   "cell_type": "code",
   "execution_count": 32,
   "id": "5916ec66",
   "metadata": {},
   "outputs": [],
   "source": [
    "E=3.0\n",
    "nx=19\n",
    "ny=19\n",
    "\n",
    "x=np.linspace(0.05,0.95,nx);y=np.linspace(0.05,0.95,ny)\n",
    "cs = cross_section(E,x,y,\"CT18NNLO\")\n",
    "# conversion(E,cs)"
   ]
  },
  {
   "cell_type": "code",
   "execution_count": null,
   "id": "c9b27fea",
   "metadata": {},
   "outputs": [],
   "source": []
  }
 ],
 "metadata": {
  "kernelspec": {
   "display_name": "Python 3",
   "language": "python",
   "name": "python3"
  },
  "language_info": {
   "codemirror_mode": {
    "name": "ipython",
    "version": 3
   },
   "file_extension": ".py",
   "mimetype": "text/x-python",
   "name": "python",
   "nbconvert_exporter": "python",
   "pygments_lexer": "ipython3",
   "version": "3.8.5"
  }
 },
 "nbformat": 4,
 "nbformat_minor": 5
}
